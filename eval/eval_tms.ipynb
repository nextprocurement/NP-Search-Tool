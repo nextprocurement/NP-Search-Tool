{
 "cells": [
  {
   "cell_type": "code",
   "execution_count": 8,
   "id": "199f3967-c3bb-47f4-96fa-6b988b6fc692",
   "metadata": {
    "tags": []
   },
   "outputs": [],
   "source": [
    "import pandas as pd\n",
    "import pathlib\n",
    "import numpy as np\n",
    "import matplotlib.pyplot as plt\n",
    "import scipy.sparse as sparse"
   ]
  },
  {
   "cell_type": "code",
   "execution_count": null,
   "id": "8979eb82-9f55-4e8a-a116-b0b935e4c7e8",
   "metadata": {},
   "outputs": [],
   "source": [
    "%matplotlib inline\n",
    "%config InlineBackend.figure_format = 'retina'"
   ]
  },
  {
   "cell_type": "code",
   "execution_count": null,
   "id": "ee092add-c56f-44c6-b1c7-c35723b37361",
   "metadata": {},
   "outputs": [],
   "source": [
    "# Define the figure size and dpi\n",
    "fig_width = 6.9  # inches\n",
    "fig_height = 3.5  # inches\n",
    "fig_dpi = 350\n",
    "\n",
    "plt.rcParams.update({\n",
    "    'figure.figsize': (fig_width, fig_height),\n",
    "    'figure.dpi': fig_dpi,\n",
    "\n",
    "    # Fonts\n",
    "    'font.size': 18,\n",
    "\n",
    "    # Axes\n",
    "    'axes.labelsize': 12,\n",
    "    'axes.titlesize': 12,\n",
    "    'axes.linewidth': 1,\n",
    "    'axes.grid': True,\n",
    "    'grid.linestyle': ':',\n",
    "    'grid.linewidth': 1,\n",
    "    'grid.color': 'gray',\n",
    "\n",
    "    # Legend\n",
    "    'legend.fontsize': 8,\n",
    "    'legend.frameon': True,\n",
    "    'legend.framealpha': 0.8,\n",
    "    'legend.fancybox': False,\n",
    "    'legend.edgecolor': 'gray',\n",
    "    'legend.facecolor': 'white',\n",
    "    'legend.borderaxespad': 0.5,\n",
    "    'legend.borderpad': 0.4,\n",
    "    'legend.labelspacing': 0.5,\n",
    "\n",
    "    # Lines\n",
    "    'lines.linewidth': 2.0,\n",
    "    'lines.markersize': 2,\n",
    "    'axes.labelsize': 10,\n",
    "    'axes.titlesize': 12,\n",
    "    'xtick.labelsize': 8,\n",
    "    'ytick.labelsize': 8,\n",
    "})"
   ]
  },
  {
   "cell_type": "code",
   "execution_count": 10,
   "id": "399e61f9-419d-4158-8031-c1ba56cfb2c4",
   "metadata": {
    "tags": []
   },
   "outputs": [
    {
     "data": {
      "text/html": [
       "<div>\n",
       "<style scoped>\n",
       "    .dataframe tbody tr th:only-of-type {\n",
       "        vertical-align: middle;\n",
       "    }\n",
       "\n",
       "    .dataframe tbody tr th {\n",
       "        vertical-align: top;\n",
       "    }\n",
       "\n",
       "    .dataframe thead th {\n",
       "        text-align: right;\n",
       "    }\n",
       "</style>\n",
       "<table border=\"1\" class=\"dataframe\">\n",
       "  <thead>\n",
       "    <tr style=\"text-align: right;\">\n",
       "      <th></th>\n",
       "      <th>ntopics</th>\n",
       "      <th>cohrs_mean</th>\n",
       "      <th>cohrs_var</th>\n",
       "      <th>disp_perc_mean</th>\n",
       "      <th>disp_perc_var</th>\n",
       "    </tr>\n",
       "  </thead>\n",
       "  <tbody>\n",
       "    <tr>\n",
       "      <th>0</th>\n",
       "      <td>5</td>\n",
       "      <td>0.375832</td>\n",
       "      <td>0.021252</td>\n",
       "      <td>8.434454</td>\n",
       "      <td>0.0</td>\n",
       "    </tr>\n",
       "    <tr>\n",
       "      <th>1</th>\n",
       "      <td>10</td>\n",
       "      <td>0.397900</td>\n",
       "      <td>0.133638</td>\n",
       "      <td>34.185116</td>\n",
       "      <td>0.0</td>\n",
       "    </tr>\n",
       "  </tbody>\n",
       "</table>\n",
       "</div>"
      ],
      "text/plain": [
       "   ntopics  cohrs_mean  cohrs_var  disp_perc_mean  disp_perc_var\n",
       "0        5    0.375832   0.021252        8.434454            0.0\n",
       "1       10    0.397900   0.133638       34.185116            0.0"
      ]
     },
     "execution_count": 10,
     "metadata": {},
     "output_type": "execute_result"
    }
   ],
   "source": [
    "path_models = pathlib.Path(\n",
    "    \"/export/usuarios_ml4ds/lbartolome/NextProcurement/NP-Search-Tool/sample_data/models/Mallet\"\n",
    ")\n",
    "\n",
    "tpcs_eval = [5,10]\n",
    "\n",
    "info_eval = {\n",
    "    \"ntopics\": tpcs_eval,\n",
    "    \"cohrs_mean\": [],\n",
    "    \"cohrs_var\" : [],\n",
    "    \"disp_perc_mean\": [],\n",
    "    \"disp_perc_var\": []\n",
    "}\n",
    "for tpc in tpcs_eval:\n",
    "    path_model = path_models / f\"Mallet_{tpc}_topics\" / \"model_data\" / \"TMmodel\"\n",
    "    cohrs = np.load(path_model.joinpath('topic_coherence.npy'))\n",
    "    info_eval[\"cohrs_mean\"].append(np.mean(cohrs))\n",
    "    info_eval[\"cohrs_var\"].append(np.std(cohrs))\n",
    "    thetas = sparse.load_npz(path_model.joinpath('thetas.npz'))\n",
    "    disp_perc = 100 * ((thetas.shape[0] * thetas.shape[1]) - len(thetas.data)) / (thetas.shape[0] * thetas.shape[1])\n",
    "    info_eval[\"disp_perc_mean\"].append(np.mean(disp_perc))\n",
    "    info_eval[\"disp_perc_var\"].append(np.std(disp_perc))\n",
    "\n",
    "info_eval_df = pd.DataFrame(info_eval)\n",
    "info_eval_df"
   ]
  },
  {
   "cell_type": "code",
   "execution_count": 23,
   "id": "d72dba6a-106c-4db6-8cc5-8397acc23bf2",
   "metadata": {
    "tags": []
   },
   "outputs": [
    {
     "data": {
      "text/plain": [
       "<matplotlib.legend.Legend at 0x7f3f6da07400>"
      ]
     },
     "execution_count": 23,
     "metadata": {},
     "output_type": "execute_result"
    },
    {
     "data": {
      "image/png": "[encoded data removed]",
      "text/plain": [
       "<Figure size 640x480 with 2 Axes>"
      ]
     },
     "metadata": {},
     "output_type": "display_data"
    }
   ],
   "source": [
    "fig, axs = plt.subplots(nrows=1, ncols=1)\n",
    "\n",
    "axs.errorbar(\n",
    "    info_eval_df['ntopics'],\n",
    "    info_eval_df['cohrs_mean'],\n",
    "    yerr=info_eval_df['cohrs_var'],\n",
    "    fmt='x-',\n",
    "    ecolor='black',\n",
    "    capsize=2,\n",
    "    color='#36AE7C',\n",
    "    label='$C_{V}$')\n",
    "\n",
    "ax2 = axs.twinx()\n",
    "ax2.errorbar(\n",
    "    info_eval_df['ntopics'],\n",
    "    info_eval_df['disp_perc_mean'],\n",
    "    yerr=info_eval_df['disp_perc_var'], \n",
    "    fmt='x-',\n",
    "    ecolor='black',\n",
    "    capsize=2,\n",
    "    color='#187498',\n",
    "    label='$DP$')\n",
    "\n",
    "axs.grid(True)\n",
    "axs.set_xlabel('K')\n",
    "axs.set_ylabel('$C_{V}$')\n",
    "#axs.set_title(title)\n",
    "ax2.grid(True)\n",
    "\n",
    "handles_all, labels_all = axs.get_legend_handles_labels()\n",
    "handles2, labels2 = ax2.get_legend_handles_labels()\n",
    "\n",
    "fig.legend(handles_all+handles2, labels_all+labels2, loc='upper center', ncol=2, bbox_to_anchor=(0.5, 1),\n",
    "           frameon=True, shadow=False)"
   ]
  }
 ],
 "metadata": {
  "kernelspec": {
   "display_name": "prueba",
   "language": "python",
   "name": "prueba"
  },
  "language_info": {
   "codemirror_mode": {
    "name": "ipython",
    "version": 3
   },
   "file_extension": ".py",
   "mimetype": "text/x-python",
   "name": "python",
   "nbconvert_exporter": "python",
   "pygments_lexer": "ipython3",
   "version": "3.10.9"
  }
 },
 "nbformat": 4,
 "nbformat_minor": 5
}

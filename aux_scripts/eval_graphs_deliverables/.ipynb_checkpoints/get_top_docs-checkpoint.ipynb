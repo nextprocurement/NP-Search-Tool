{
 "cells": [
  {
   "cell_type": "code",
   "execution_count": 81,
   "id": "22d3fee9-78ac-4f1c-8a7e-460e29715a7e",
   "metadata": {
    "tags": []
   },
   "outputs": [],
   "source": [
    "import pandas as pd\n",
    "import pathlib\n",
    "import numpy as np\n",
    "import scipy.sparse as sparse\n",
    "import re\n",
    "import time"
   ]
  },
  {
   "cell_type": "code",
   "execution_count": 94,
   "id": "11ff2b4a-6258-4416-8dfb-65c660490742",
   "metadata": {
    "tags": []
   },
   "outputs": [
    {
     "name": "stdout",
     "output_type": "stream",
     "text": [
      "-- -- Reading data from /export/usuarios_ml4ds/cggamella/NP-Search-Tool/sample_data/all_processed/df_esp_langid.parquet and /export/usuarios_ml4ds/cggamella/NP-Search-Tool/sample_data/all_processed/minors_insiders_outsiders_origen_sin_lot_info.parquet\n",
      "-- -- Data read from /export/usuarios_ml4ds/cggamella/NP-Search-Tool/sample_data/all_processed/df_esp_langid.parquet: 2618584 rows.\n",
      "-- -- Columns: ['id_tm', 'raw_text', 'lemmas', 'lang']\n",
      "-- -- Data read from /export/usuarios_ml4ds/cggamella/NP-Search-Tool/sample_data/all_processed/minors_insiders_outsiders_origen_sin_lot_info.parquet: 3110261 rows.\n",
      "-- -- Data read from /export/usuarios_ml4ds/cggamella/NP-Search-Tool/sample_data/all_processed/completo_CPV.parquet: 1570211 rows.\n"
     ]
    }
   ],
   "source": [
    "################\n",
    "# Paths to data\n",
    "################\n",
    "path_parquets = pathlib.Path(\"/export/usuarios_ml4ds/cggamella/NP-Search-Tool/sample_data/all_processed\")\n",
    "path_place_without_lote = path_parquets / \"minors_insiders_outsiders_origen_sin_lot_info.parquet\"\n",
    "path_place_esp = path_parquets / \"df_esp_langid.parquet\"\n",
    "path_place_CPV = path_parquets / \"completo_CPV.parquet\"\n",
    "\n",
    "################\n",
    "# Read data\n",
    "################\n",
    "print(f\"-- -- Reading data from {path_place_esp} and {path_place_without_lote}\")\n",
    "processed = pd.read_parquet(path_place_esp)\n",
    "cols = processed.columns.values.tolist()\n",
    "print(f\"-- -- Data read from {path_place_esp}: {len(processed)} rows.\")\n",
    "# set identifier as column so we dont loose it\n",
    "processed['identifier'] = processed.index\n",
    "print(f\"-- -- Columns: {cols}\")\n",
    "place_without_lote = pd.read_parquet(path_place_without_lote)\n",
    "place_without_lote['doc_id'] = place_without_lote.index\n",
    "print(f\"-- -- Data read from {path_place_without_lote}: {len(place_without_lote)} rows.\")\n",
    "place_cpv = pd.read_parquet(path_place_CPV)\n",
    "place_cpv['doc_id'] = place_cpv.index\n",
    "print(f\"-- -- Data read from {path_place_CPV}: {len(place_cpv)} rows.\")"
   ]
  },
  {
   "cell_type": "code",
   "execution_count": 118,
   "id": "fbdf30c1-d39f-4be2-b2f3-d53bc21cb0df",
   "metadata": {
    "tags": []
   },
   "outputs": [],
   "source": [
    "def get_df_eval(path_model, df_raw_corpus, path_save, merge_on):\n",
    "    # Load thetas\n",
    "    thetas = sparse.load_npz((path_model / \"model_data/TMmodel\" / \"thetas_orig.npz\"))\n",
    "    thetas = thetas.toarray()\n",
    "\n",
    "    # Load betas\n",
    "    betas = np.load((path_model / \"model_data/TMmodel\" / \"betas.npy\"))\n",
    "\n",
    "    # Load topic-keys\n",
    "    with (path_model / \"model_data/TMmodel\" / \"tpc_descriptions.txt\").open('r', encoding='utf8') as fin:\n",
    "        topics_keys = [el.strip() for el in fin.readlines()]\n",
    "\n",
    "    # Load topic labels\n",
    "    with (path_model / \"model_data/TMmodel\" / \"tpc_labels.txt\").open('r', encoding='utf8') as fin:\n",
    "        topics_labels = [el.strip() for el in fin.readlines()]\n",
    "\n",
    "    # Load alphas and number of active documents\n",
    "    alphas = np.round(np.load((path_model / \"model_data/TMmodel\" / \"alphas.npy\")) * 100, 2)\n",
    "    ndocs_active = np.load((path_model / \"model_data/TMmodel\" / \"ndocs_active.npy\"))\n",
    "\n",
    "    # Load docs\n",
    "    corpusFile =  path_model / 'train_data/corpus.txt'\n",
    "    with corpusFile.open(\"r\", encoding=\"utf-8\") as f:\n",
    "        lines = f.readlines()  \n",
    "    try:\n",
    "        corpus = [line.rsplit(\" 0 \")[1].strip().split() for line in lines]\n",
    "    except:\n",
    "        corpus = [line.rsplit(\"\\t0\\t\")[1].strip().split() for line in lines]\n",
    "    \n",
    "    ids = [line.split(\"\\t0\\t\")[0] for line in lines]\n",
    "    if merge_on == \"id_tm\":\n",
    "        ids = [int(id_) for id_ in ids]\n",
    "        \n",
    "    df_corpus = pd.DataFrame({\"lemmas\": [\" \".join(doc) for doc in corpus]})\n",
    "    df_corpus[merge_on] = ids\n",
    "    \n",
    "    df_corpus[\"len\"] = df_corpus['lemmas'].apply(lambda x: len(x.split()))\n",
    "    df_corpus = df_corpus.merge(df_raw_corpus, how=\"inner\", on=merge_on)[[\"lemmas\", \"text\", \"title\", \"summary\", \"len\", \"doc_id\"]]\n",
    "\n",
    "    # Load vocab dictionaries\n",
    "    vocab_w2id = {}\n",
    "    vocab_id2w = {}\n",
    "    with path_model.joinpath('model_data/TMmodel/vocab.txt').open('r', encoding='utf8') as fin:\n",
    "        for i, line in enumerate(fin):\n",
    "            wd = line.strip()\n",
    "            vocab_w2id[wd] = i\n",
    "            vocab_id2w[str(i)] = wd\n",
    "\n",
    "    print(\"Calculating approach 3...\")\n",
    "    start = time.time()\n",
    "    S3 = np.zeros((len(thetas), len(betas)))\n",
    "\n",
    "    # For each document\n",
    "    for doc in range(len(thetas)):\n",
    "        # For each topic\n",
    "        for topic in range(thetas.shape[1]):\n",
    "\n",
    "            # ids of the words of document doc in the vocabulary\n",
    "            wd_ids = []\n",
    "            for word in corpus[doc]:\n",
    "                try:\n",
    "                    wd_ids.append(vocab_w2id[word])\n",
    "                except Exception as e:\n",
    "                    #print(f\"Word {word} not found in vocabulary\") \n",
    "                    continue\n",
    "\n",
    "            # sum of the weights that topic assings to each word in the document\n",
    "            S3[doc, topic] = np.sum(betas[topic, wd_ids])\n",
    "\n",
    "    print(f\"S3 shape: {S3.shape}\")\n",
    "\n",
    "    S3_sparse = sparse.csr_matrix(S3)\n",
    "    print(f\"Time elapsed: {time.time() - start}\")\n",
    "\n",
    "    # Find the most representative document for each topic\n",
    "    top_docs_per_topic = []\n",
    "\n",
    "    for s3_ in S3.T:  \n",
    "        sorted_docs_indices = np.argsort(s3_)[::-1]  ## Sort the documents based on their proportion for the current topic in descending order\n",
    "        top = sorted_docs_indices[:3]\n",
    "        top_docs_per_topic.append(top)\n",
    "\n",
    "    # get text and summary for each top doc\n",
    "    top_docs_per_topic_text = []\n",
    "    for topic_docs in top_docs_per_topic:\n",
    "        docs = [df_corpus.iloc[doc].summary + \" \" + df_corpus.iloc[doc].title for doc in topic_docs]\n",
    "        top_docs_per_topic_text.append(docs)\n",
    "\n",
    "    top_docs_0 = [docs[0] for docs in top_docs_per_topic_text]\n",
    "    top_docs_1 = [docs[1] for docs in top_docs_per_topic_text]\n",
    "    top_docs_2 = [docs[2] for docs in top_docs_per_topic_text]\n",
    "\n",
    "    df = pd.DataFrame(\n",
    "        {\n",
    "            \"ID del tópico\": range(len(topics_keys)),\n",
    "            \"Etiqueta del tópico\": topics_labels,\n",
    "            \"Tamaño del tópico (%)\": alphas,\n",
    "            \"Nº documentos activos\": ndocs_active,\n",
    "            \"Palabras más representativas\": topics_keys,\n",
    "            \"Documento más significativo 1\": top_docs_0,\n",
    "            \"Documento más significativo 2\": top_docs_1,\n",
    "            \"Documento más significativo 3\": top_docs_2,\n",
    "        }\n",
    "    )\n",
    "\n",
    "    df.to_excel(path_save)"
   ]
  },
  {
   "cell_type": "code",
   "execution_count": 84,
   "id": "7087fcd3-2daa-4d51-ab56-9e7693187df5",
   "metadata": {
    "tags": []
   },
   "outputs": [],
   "source": [
    "################\n",
    "# Models\n",
    "################\n",
    "\n",
    "########\n",
    "# CPV  #\n",
    "########\n",
    "cpv_models = [\n",
    "    \"/export/usuarios_ml4ds/cggamella/NP-Search-Tool/sample_data/models/Mallet/es_Mallet_df_merged_14_topics_45_ENTREGABLE\",\n",
    "    \"/export/usuarios_ml4ds/cggamella/NP-Search-Tool/sample_data/models/Mallet/es_Mallet_df_merged_25_topics_45_ENTREGABLE\",\n",
    "    \"/export/usuarios_ml4ds/cggamella/NP-Search-Tool/sample_data/models/Mallet/es_Mallet_df_merged_5_topics_79_ENTREGABLE\",\n",
    "    \"/export/usuarios_ml4ds/cggamella/NP-Search-Tool/sample_data/models/Mallet/es_Mallet_df_merged_15_topics_79_ENTREGABLE\",\n",
    "    \n",
    "]\n",
    "cpv_models = [pathlib.Path(model) for model in cpv_models]\n",
    "\n",
    "########\n",
    "#OTHERS#\n",
    "########\n",
    "other_models = [\n",
    "    \"/export/usuarios_ml4ds/lbartolome/NextProcurement/NP-Search-Tool/sample_data/models/Mallet/es_Mallet_all_55_topics_FINAL\",\n",
    "    \"/export/usuarios_ml4ds/lbartolome/NextProcurement/NP-Search-Tool/sample_data/models/Mallet/es_Mallet_outsiders_30_topics_FINAL\",\n",
    "    \"/export/usuarios_ml4ds/lbartolome/NextProcurement/NP-Search-Tool/sample_data/models/Mallet/es_Mallet_insiders_12_topics_FINAL\",\n",
    "    \"/export/usuarios_ml4ds/lbartolome/NextProcurement/NP-Search-Tool/sample_data/models/Mallet/es_Mallet_minors_40_topics_FINAL\"\n",
    "]\n",
    "\n",
    "other_models = [pathlib.Path(model) for model in other_models]"
   ]
  },
  {
   "cell_type": "code",
   "execution_count": 116,
   "id": "67dafb3d-5210-4677-bcdd-1619537b265f",
   "metadata": {},
   "outputs": [
    {
     "name": "stdout",
     "output_type": "stream",
     "text": [
      "-- -- Processing /export/usuarios_ml4ds/cggamella/NP-Search-Tool/sample_data/models/Mallet/es_Mallet_df_merged_14_topics_45_ENTREGABLE\n",
      "Calculating approach 3...\n",
      "S3 shape: (34257, 14)\n",
      "Time elapsed: 2.3139612674713135\n",
      "-- -- Processing /export/usuarios_ml4ds/cggamella/NP-Search-Tool/sample_data/models/Mallet/es_Mallet_df_merged_25_topics_45_ENTREGABLE\n",
      "Calculating approach 3...\n",
      "S3 shape: (34257, 25)\n",
      "Time elapsed: 4.09037709236145\n",
      "-- -- Processing /export/usuarios_ml4ds/cggamella/NP-Search-Tool/sample_data/models/Mallet/es_Mallet_df_merged_5_topics_79_ENTREGABLE\n",
      "Calculating approach 3...\n",
      "S3 shape: (39579, 5)\n",
      "Time elapsed: 0.9824609756469727\n",
      "-- -- Processing /export/usuarios_ml4ds/cggamella/NP-Search-Tool/sample_data/models/Mallet/es_Mallet_df_merged_15_topics_79_ENTREGABLE\n",
      "Calculating approach 3...\n",
      "S3 shape: (39579, 15)\n",
      "Time elapsed: 2.851377248764038\n"
     ]
    }
   ],
   "source": [
    "for model in cpv_models:\n",
    "    \n",
    "    df_raw_corpus, path_save, merge_on = place_cpv, (model.name + \".xlsx\"), \"doc_id\"\n",
    "    \n",
    "    print(f\"-- -- Processing {model.as_posix()}\")\n",
    "\n",
    "    get_df_eval(model, df_raw_corpus, path_save, merge_on)"
   ]
  },
  {
   "cell_type": "code",
   "execution_count": null,
   "id": "2ea3b4ac-db37-4659-b765-378812e1b706",
   "metadata": {
    "tags": []
   },
   "outputs": [
    {
     "name": "stdout",
     "output_type": "stream",
     "text": [
      "-- -- Processing /export/usuarios_ml4ds/lbartolome/NextProcurement/NP-Search-Tool/sample_data/models/Mallet/es_Mallet_all_55_topics_FINAL\n",
      "Calculating approach 3...\n"
     ]
    }
   ],
   "source": [
    "for model in other_models:\n",
    "    df_raw_corpus, path_save, merge_on = place_without_lote,  (model.name + \".xlsx\"), \"id_tm\"\n",
    "    \n",
    "    print(f\"-- -- Processing {model.as_posix()}\")\n",
    "\n",
    "    get_df_eval(model, df_raw_corpus, path_save, merge_on)"
   ]
  }
 ],
 "metadata": {
  "kernelspec": {
   "display_name": "prueba",
   "language": "python",
   "name": "prueba"
  },
  "language_info": {
   "codemirror_mode": {
    "name": "ipython",
    "version": 3
   },
   "file_extension": ".py",
   "mimetype": "text/x-python",
   "name": "python",
   "nbconvert_exporter": "python",
   "pygments_lexer": "ipython3",
   "version": "3.10.9"
  }
 },
 "nbformat": 4,
 "nbformat_minor": 5
}
